{
 "cells": [
  {
   "cell_type": "code",
   "execution_count": 1,
   "id": "188c1abf",
   "metadata": {},
   "outputs": [],
   "source": [
    "import numpy as np\n",
    "import tensorflow as tf\n",
    "import cv2\n",
    "from ultralytics import YOLO\n",
    "from norfair import Detection, Tracker\n",
    "import uuid\n"
   ]
  },
  {
   "cell_type": "code",
   "execution_count": 12,
   "id": "f2f25077",
   "metadata": {},
   "outputs": [],
   "source": [
    "video_path = \"../data/people_walking.mp4\" #video path\n",
    "\n",
    " #\"n\" so it is nano model, faster. \n",
    " #It is trained by COCO dataset that includes 80 different labels \n",
    " #I used nano model but you can use small, medium,...\n",
    "model = YOLO(\"../yolov8n.pt\")"
   ]
  },
  {
   "cell_type": "code",
   "execution_count": 13,
   "id": "c80e273f",
   "metadata": {},
   "outputs": [],
   "source": [
    "interpreter = tf.lite.Interpreter(model_path=\"../reid_model.tflite\")\n",
    "interpreter.allocate_tensors()\n",
    "input_details = interpreter.get_input_details()\n",
    "output_details = interpreter.get_output_details()"
   ]
  },
  {
   "cell_type": "code",
   "execution_count": 14,
   "id": "d988d099",
   "metadata": {},
   "outputs": [],
   "source": [
    "def get_embedding(image):\n",
    "    image = cv2.resize(image, (128,256))\n",
    "    image = image / 255.0\n",
    "    image = np.expand_dims(image.astype(np.float32), axis=0)\n",
    "    interpreter.set_tensor((input_details[0]['index']), image)\n",
    "    interpreter.invoke()\n",
    "    return interpreter.get_tensor(output_details[0]['index'])[0]"
   ]
  },
  {
   "cell_type": "code",
   "execution_count": 15,
   "id": "9fe3098d",
   "metadata": {},
   "outputs": [],
   "source": [
    "def cosine_similarity(a, b):\n",
    "    return np.dot(a, b) /(np.linalg.norm(a) * np.linalg.norm(b))"
   ]
  },
  {
   "cell_type": "code",
   "execution_count": 16,
   "id": "5437c9c2",
   "metadata": {},
   "outputs": [],
   "source": [
    "tracker = Tracker(distance_function=\"euclidean\", distance_threshold=25)"
   ]
  },
  {
   "cell_type": "code",
   "execution_count": null,
   "id": "40ba7569",
   "metadata": {},
   "outputs": [],
   "source": []
  }
 ],
 "metadata": {
  "kernelspec": {
   "display_name": "Python 3",
   "language": "python",
   "name": "python3"
  },
  "language_info": {
   "codemirror_mode": {
    "name": "ipython",
    "version": 3
   },
   "file_extension": ".py",
   "mimetype": "text/x-python",
   "name": "python",
   "nbconvert_exporter": "python",
   "pygments_lexer": "ipython3",
   "version": "3.9.0"
  }
 },
 "nbformat": 4,
 "nbformat_minor": 5
}
