{
 "cells": [
  {
   "cell_type": "code",
   "execution_count": 1,
   "id": "188c1abf",
   "metadata": {},
   "outputs": [],
   "source": [
    "import numpy as np\n",
    "import tensorflow as tf\n",
    "import cv2\n",
    "from ultralytics import YOLO\n",
    "from norfair import Detection, Tracker\n",
    "import uuid\n"
   ]
  },
  {
   "cell_type": "code",
   "execution_count": 12,
   "id": "f2f25077",
   "metadata": {},
   "outputs": [],
   "source": [
    "video_path = \"../data/people_walking.mp4\" #video path\n",
    "\n",
    " #\"n\" so it is nano model, faster. \n",
    " #It is trained by COCO dataset that includes 80 different labels \n",
    " #I used nano model but you can use small, medium,...\n",
    "model = YOLO(\"../yolov8n.pt\")"
   ]
  },
  {
   "cell_type": "code",
   "execution_count": 13,
   "id": "c80e273f",
   "metadata": {},
   "outputs": [],
   "source": [
    "interpreter = tf.lite.Interpreter(model_path=\"../reid_model.tflite\")\n",
    "interpreter.allocate_tensors()\n",
    "input_details = interpreter.get_input_details()\n",
    "output_details = interpreter.get_output_details()"
   ]
  },
  {
   "cell_type": "code",
   "execution_count": 14,
   "id": "d988d099",
   "metadata": {},
   "outputs": [],
   "source": [
    "def get_embedding(image):\n",
    "    image = cv2.resize(image, (128,256))\n",
    "    image = image / 255.0\n",
    "    image = np.expand_dims(image.astype(np.float32), axis=0)\n",
    "    interpreter.set_tensor((input_details[0]['index']), image)\n",
    "    interpreter.invoke()\n",
    "    return interpreter.get_tensor(output_details[0]['index'])[0]"
   ]
  },
  {
   "cell_type": "code",
   "execution_count": 15,
   "id": "9fe3098d",
   "metadata": {},
   "outputs": [],
   "source": [
    "def cosine_similarity(a, b):\n",
    "    return np.dot(a, b) /(np.linalg.norm(a) * np.linalg.norm(b))"
   ]
  },
  {
   "cell_type": "code",
   "execution_count": 21,
   "id": "76748d94",
   "metadata": {},
   "outputs": [],
   "source": [
    "def generate_new_id():\n",
    "    return str(uuid.uuid4())[:8]"
   ]
  },
  {
   "cell_type": "code",
   "execution_count": 16,
   "id": "5437c9c2",
   "metadata": {},
   "outputs": [],
   "source": [
    "tracker = Tracker(distance_function=\"euclidean\", distance_threshold=25)"
   ]
  },
  {
   "cell_type": "code",
   "execution_count": 20,
   "id": "40ba7569",
   "metadata": {},
   "outputs": [],
   "source": [
    "cap = cv2.VideoCapture(video_path)\n",
    "\n",
    "if not cap.isOpened:\n",
    "    print(\"Video could not open\")\n",
    "    exit()\n",
    "\n",
    "unique_ids = set()\n",
    "reid_db = {} #track_id : embedding\n"
   ]
  },
  {
   "cell_type": "code",
   "execution_count": null,
   "id": "8cf6d74a",
   "metadata": {},
   "outputs": [],
   "source": [
    "while True:\n",
    "    ret, frame = cap.read()\n",
    "\n",
    "    if not ret:\n",
    "        break\n",
    "\n",
    "    results = model(frame)[0]\n",
    "    detections = []\n",
    "    new_reid_matches = {} # detectionindex : matched_id\n",
    "\n",
    "    for i, box in enumerate(results.box):\n",
    "        cls_id = int(box.cls[0])\n",
    "\n",
    "    if model.names[cls_id] == \"person\":\n",
    "        conf = float(box.conf[0])\n",
    "\n",
    "        if conf > 70:\n",
    "            x1, y1, x2, y2 = map(int, box.xyxy[0])\n",
    "            cx, cy = int((x1 + x2) / 2), int((y1+ y2) /2)\n",
    "\n",
    "            person_crop = frame[y1:y2, x1:x2]\n",
    "            if person_crop.size == 0:\n",
    "                continue\n",
    "\n",
    "            embedding = get_embedding(person_crop)\n",
    "            matched_id = None\n",
    "\n",
    "            for known_id, known_embedding in reid_db.items():\n",
    "                if cosine_similarity(embedding, known_embedding) > 0.70:\n",
    "                    matched_id = known_id\n",
    "                    break\n",
    "\n",
    "            if matched_id is None:\n",
    "                matched_id = generate_new_id()\n",
    "                reid_db[matched_id] = embedding\n",
    "            else: # Burayla sonradan oynayabilirim.\n",
    "                reid_db[matched_id] = embedding \n",
    "\n",
    "            \n"
   ]
  }
 ],
 "metadata": {
  "kernelspec": {
   "display_name": "Python 3",
   "language": "python",
   "name": "python3"
  },
  "language_info": {
   "codemirror_mode": {
    "name": "ipython",
    "version": 3
   },
   "file_extension": ".py",
   "mimetype": "text/x-python",
   "name": "python",
   "nbconvert_exporter": "python",
   "pygments_lexer": "ipython3",
   "version": "3.9.0"
  }
 },
 "nbformat": 4,
 "nbformat_minor": 5
}
